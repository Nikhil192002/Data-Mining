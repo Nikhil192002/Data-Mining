{
 "cells": [
  {
   "cell_type": "markdown",
   "id": "5fb9d81f-e601-4868-958e-9e89eba6b892",
   "metadata": {},
   "source": [
    "## Higher secondary school data scraping for odisha state"
   ]
  },
  {
   "cell_type": "code",
   "execution_count": 66,
   "id": "f34453fb-b0a8-4813-aea9-5a9b0a275c4f",
   "metadata": {},
   "outputs": [],
   "source": [
    "import requests\n",
    "from bs4 import BeautifulSoup\n",
    "import pandas as pd"
   ]
  },
  {
   "cell_type": "code",
   "execution_count": 2,
   "id": "4d0695c9-042a-418e-b26e-185b3e9cad04",
   "metadata": {},
   "outputs": [
    {
     "name": "stdout",
     "output_type": "stream",
     "text": [
      "<Response [200]>\n",
      "<!DOCTYPE html>\n",
      "<html lang=\"en\"><head><meta charset=\"utf-8\"/><title>List of Higher Secondary School in Orissa - eduFROG </title><link href=\"https://www.edufrog.in/images/favicon.png\" rel=\"SHORTCUT ICON\"/><meta content=\"width=device-width, initial-scale=1\" name=\"viewport\"><link href=\"https://www.edufrog.in/theme/bootstrap/bootstrap.min.css\" rel=\"stylesheet\"/><link href=\"https://www.edufrog.in/theme/fa/css/font-awesome.min.css\" rel=\"stylesheet\"/><link href=\"https://www.edufrog.in/theme/style.css\" rel=\"stylesheet\"/><!-- Google tag (gtag.js) --><script async=\"\" src=\"https://www.googletagmanager.com/gtag/js?id=G-GXK6TYFP84\"></script><script> window.dataLayer = window.dataLayer || []; function gtag(){dataLayer.push(arguments);} gtag('js', new Date()); gtag('config', 'G-GXK6TYFP84');</script></meta></head><body> <div id=\"header\"> <div class=\"container\"> <div class=\"row\"> <div class=\"col-lg-3 col-md-3 col-sm-12\"> <div class=\"logo\"> <a href=\"https://www.edufrog.in/\">eduFROG</a> </div> </div> <div class=\"col-lg-6 col-md-6 col-sm-12\"> <div class=\"hc-wrap\"> <form action=\"https://www.edufrog.in/searchdirectory\" id=\"search\" method=\"post\" name=\"search\"> <div class=\"form-group\"> <div class=\"input-group\"> <input autocomplete=\"off\" class=\"form-control\" id=\"searchText\" name=\"search\" placeholder=\"Search...\" type=\"text\"/> <input id=\"searchVal\" name=\"searchval\" type=\"hidden\"/> <span class=\"input-group-btn\"> <button accesskey=\"13\" class=\"btn btn-default\" type=\"submit\"><i class=\"fa fa-search\"></i></button> </span> </div> </div> </form> </div> </div> <div class=\"col-lg-3 col-md-3 col-sm-12\"> <div class=\"hc-wrap\"> <a class=\"btn bt-style3 dis-bl\" href=\"https://www.edufrog.in/add-institute.html\"><i class=\"fa fa-plus-circle\"></i>Add Your Institute</a> </div> </div> </div> </div></div><div id=\"navigation\"> <div class=\"container\"> <div class=\"row\"> <div class=\"col-lg-12 col-md-12 col-sm-12\"> <nav class=\"navbar navbar-default\"> <div class=\"container-fluid\"> <div class=\"navbar-header\"> <button class=\"navbar-toggle collapsed\" data-target=\"#bs-example-navbar-collapse-1\" data-toggle=\"collapse\" type=\"button\"> <span class=\"sr-only\"><i class=\"fa fa-home\"></i></span> <span class=\"icon-bar\"></span> <span class=\"icon-bar\"></span> <span class=\"icon-bar\"></span> </button> </div> <div class=\"collapse navbar-collapse\" id=\"bs-example-navbar-collapse-1\"> <ul class=\"nav navbar-nav\"> <li><a href=\"https://www.edufrog.in/schools\">Schools</a></li> <li><a href=\"https://www.edufrog.in/colleges\">Colleges</a></li> <li><a href=\"https://www.edufrog.in/universities\">Universities</a></li> <li><a href=\"https://www.edufrog.in/coaching-institute\">Coaching Institute</a></li> <li><a href=\"https://www.edufrog.in/jobs/\">Jobs</a></li> </ul><ul class=\"nav navbar-nav navbar-right\"><li><a href=\"javascript:void(0)\">About Us</a></li><li><a href=\"https://www.edufrog.in/contact-us.html\">Contact Us</a></li> <li><a href=\"https://www.edufrog.in/policy.html\">Policy</a></li> <li><a href=\"https://www.edufrog.in/signup.html\">Signup</a></li><li><a href=\"https://www.edufrog.in/login.html\">Login</a></li> </ul> </div> </div> </nav> </div> </div> </div></div><div id=\"sel-nav\"> <div class=\"container\"> <div class=\"row\"> <div class=\"col-lg-3 col-md-3 col-sm-6\"> <div class=\"form-group\"> <form action=\"\" id=\"catform\"> <select class=\"form-control\" id=\"catlist\" onchange=\"changeUrl('cat',this.options[this.selectedIndex].value)\"> <option value=\"\">Select Category</option> <option selected=\"selected\" value=\"schools\"> Schools</option> <option value=\"colleges\"> Colleges</option> <option value=\"universities\"> Universities</option> <option value=\"coaching-institute\"> Coaching Institute</option> </select> </form> </div> </div> <div class=\"col-lg-3 col-md-3 col-sm-6\"> <div class=\"form-group\"> <form action=\"\" id=\"typeform\"> <select class=\"form-control\" id=\"typelist\" onchange=\"changeUrl('type',this.options[this.selectedIndex].value)\"> <option value=\"list\">All List</option> <option value=\"air-force-school\"> Air Force School</option> <option value=\"government-school\"> Government School</option> <option value=\"nursery-school\"> Nursery School</option> <option value=\"play-school\"> Play School</option> <option value=\"primary-school\"> Primary School</option> <option value=\"private-school\"> Private School</option> <option value=\"senior-secondary-school\"> Senior Secondary School</option> <option value=\"public-school\"> Public School</option> <option value=\"army-military-school\"> Army/Military School</option> <option value=\"boarding-school\"> Boarding School</option> <option value=\"international-school\"> International School</option> <option value=\"montessori-school\"> Montessori School</option> <option value=\"catholic-school\"> Catholic School</option> <option value=\"navodaya-vidyalaya-school\"> Navodaya Vidyalaya School</option> <option value=\"schools-for-deaf-and-dumb-school\"> Schools For Deaf And Dumb School</option> <option value=\"schools-for-blinds-school\"> Schools For Blinds School</option> <option value=\"schools-for-gifted-children-school\"> Schools For Gifted Children School</option> <option value=\"schools-for-physically-challenged-school\"> Schools For Physically Challenged School</option> <option value=\"high-school\"> High School</option> <option selected=\"selected\" value=\"higher-secondary-school\"> Higher Secondary School</option> <option value=\"primary-with-upper-primary-school\"> Primary With Upper Primary School</option> <option value=\"school\"> School</option> <option value=\"upper-primary-with-secondary-school\"> Upper Primary With Secondary School</option> <option value=\"day-boarding-schools\"> Day Boarding Schools</option> <option value=\"english-medium-school\"> English Medium School</option> <option value=\"hindi-medium-school\"> Hindi Medium School</option> <option value=\"gujarati-medium-school\"> Gujarati Medium School</option> <option value=\"urdu-medium-school\"> Urdu Medium School</option> <option value=\"kannada-medium-school\"> Kannada Medium School</option> <option value=\"malayalam-medium-school\"> Malayalam Medium School</option> <option value=\"marathi-medium-school\"> Marathi Medium School</option> <option value=\"tamil-medium-school\"> Tamil Medium School</option> <option value=\"telugu-medium-school\"> Telugu Medium School</option> <option value=\"bengali-medium-school\"> Bengali Medium School</option> <option value=\"odia-medium-school\"> Odia Medium School</option> <option value=\"punjabi-medium-school\"> Punjabi Medium School</option> <option value=\"assamese-medium-school\"> Assamese Medium School</option> <option value=\"konkani-medium-schools\"> Konkani Medium Schools</option> <option value=\"manipuri-medium-school\"> Manipuri Medium School</option> <option value=\"nepali-medium-school\"> Nepali Medium School</option> <option value=\"sanskrit-medium-school\"> Sanskrit Medium School</option> <option value=\"dogri-medium-school\"> Dogri Medium School</option> <option value=\"arabic-medium-school\"> Arabic Medium School</option> <option value=\"cbse-school\"> CBSE School</option> <option value=\"open-school\"> Open School</option> </select> </form> </div> </div> <div class=\"col-lg-3 col-md-3 col-sm-6\"> <div class=\"form-group\"> <form action=\"\" id=\"stateform\"> <select class=\"form-control\" id=\"statelist\" onchange=\"changeUrl('state',this.options[this.selectedIndex].value)\"> <option value=\"\">Select State</option> <option value=\"punjab\"> Punjab</option> <option value=\"telangana\"> Telangana</option> <option value=\"tripura\"> Tripura</option> <option value=\"uttar-pradesh\"> Uttar Pradesh</option> <option value=\"gujarat\"> Gujarat</option> <option value=\"maharashtra\"> Maharashtra</option> <option value=\"mizoram\"> Mizoram</option> <option value=\"rajasthan\"> Rajasthan</option> <option value=\"kerala\"> Kerala</option> <option value=\"uttarakhand\"> Uttarakhand</option> <option value=\"haryana\"> Haryana</option> <option value=\"andhra-pradesh\"> Andhra Pradesh</option> <option value=\"jammu-and-kashmir\"> Jammu And Kashmir</option> <option value=\"andaman-and-nicobar-islands\"> Andaman And Nicobar Islands</option> <option selected=\"selected\" value=\"orissa\"> Orissa</option> <option value=\"tamil-nadu\"> Tamil Nadu</option> <option value=\"madhya-pradesh\"> Madhya Pradesh</option> <option value=\"bihar\"> Bihar</option> <option value=\"karnataka\"> Karnataka</option> <option value=\"himachal-pradesh\"> Himachal Pradesh</option> <option value=\"assam\"> Assam</option> <option value=\"west-bengal\"> West Bengal</option> <option value=\"chhattisgarh\"> Chhattisgarh</option> <option value=\"manipur\"> Manipur</option> <option value=\"jharkhand\"> Jharkhand</option> <option value=\"chandigarh\"> Chandigarh</option> <option value=\"arunachal-pradesh\"> Arunachal Pradesh</option> <option value=\"dadra-and-nagar-haveli\"> Dadra And Nagar Haveli</option> <option value=\"daman-and-diu\"> Daman And Diu</option> <option value=\"delhi\"> Delhi</option> <option value=\"nagaland\"> Nagaland</option> <option value=\"meghalaya\"> Meghalaya</option> <option value=\"sikkim\"> Sikkim</option> <option value=\"puducherry\"> Puducherry</option> <option value=\"goa\"> Goa</option> </select> </form> </div> </div> <div class=\"col-lg-3 col-md-3 col-sm-6\"> <div class=\"form-group\"> <form action=\"\" id=\"cityform\"> <select class=\"form-control\" id=\"citylist\" onchange=\"changeUrl('city',this.options[this.selectedIndex].value)\"> <option value=\"\">Select City</option> <option value=\"angul\"> Angul</option> <option value=\"balangir\"> Balangir</option> <option value=\"balasore\"> Balasore</option> <option value=\"bargarh\"> Bargarh</option> <option value=\"baripada\"> Baripada</option> <option value=\"berhampur-orissa\"> Berhampur</option> <option value=\"bhadrak\"> Bhadrak</option> <option value=\"bhawanipatna\"> Bhawanipatna</option> <option value=\"bhubaneswar\"> Bhubaneswar</option> <option value=\"brajrajnagar\"> Brajrajnagar</option> <option value=\"cuttack\"> Cuttack</option> <option value=\"dhenkanal\"> Dhenkanal</option> <option value=\"ganjam\"> Ganjam</option> <option value=\"jagatsinghpur\"> Jagatsinghpur</option> <option value=\"jajpur\"> Jajpur</option> <option value=\"jharsuguda\"> Jharsuguda</option> <option value=\"kalahandi\"> Kalahandi</option> <option value=\"kendrapara\"> Kendrapara</option> <option value=\"khurda\"> Khurda</option> <option value=\"koraput\"> Koraput</option> <option value=\"malkangiri\"> Malkangiri</option> <option value=\"mayurbhanj\"> Mayurbhanj</option> <option value=\"nayagarh-orissa\"> Nayagarh</option> <option value=\"nuapada\"> Nuapada</option> <option value=\"phulbani\"> Phulbani</option> <option value=\"puri\"> Puri</option> <option value=\"rairangpur\"> Rairangpur</option> <option value=\"rayagada\"> Rayagada</option> <option value=\"rourkela\"> Rourkela</option> <option value=\"sambalpur\"> Sambalpur</option> <option value=\"subarnapur\"> Subarnapur</option> <option value=\"sundargarh\"> Sundargarh</option> <option value=\"boudh\"> Boudh</option> <option value=\"deogarh-orissa\"> Deogarh</option> <option value=\"gajapati\"> Gajapati</option> <option value=\"kandhamal\"> Kandhamal</option> <option value=\"kendujhar\"> Kendujhar</option> <option value=\"nabarangpur\"> Nabarangpur</option> </select> </form> </div> </div> </div> </div></div><div> <div class=\"container\"> <div class=\"row\"> <div align=\"center\" class=\"m1\"> <script id=\"mNCC\" language=\"javascript\"> medianet_width = \"970\"; medianet_height = \"90\"; medianet_crid = \"834543454\"; medianet_versionId = \"3111299\"; </script><script src=\"//contextual.media.net/nmedianet.js?cid=8CU5P8N3J\"></script> </div> </div></div></div> <div id=\"body\"> <div class=\"container\"> <div class=\"row\"><div class=\"col-lg-8 col-md-8 col-sm-12\"> <div class=\"lising-wrap\"><div class=\"title\"><h1><i class=\"fa fa-university\"></i>Browse Higher Secondary School by City</h1></div><div class=\"post\"><ul class=\"list1\"> <li><a href=\"https://www.edufrog.in/schools/higher-secondary-school/orissa/angul\" title=\"Higher Secondary School in Angul\">Angul</a> </li> <li><a href=\"https://www.edufrog.in/schools/higher-secondary-school/orissa/balangir\" title=\"Higher Secondary School in Balangir\">Balangir</a> </li> <li><a href=\"https://www.edufrog.in/schools/higher-secondary-school/orissa/balasore\" title=\"Higher Secondary School in Balasore\">Balasore</a> </li> <li><a href=\"https://www.edufrog.in/schools/higher-secondary-school/orissa/bargarh\" title=\"Higher Secondary School in Bargarh\">Bargarh</a> </li> <li><a href=\"https://www.edufrog.in/schools/higher-secondary-school/orissa/baripada\" title=\"Higher Secondary School in Baripada\">Baripada</a> </li> <li><a href=\"https://www.edufrog.in/schools/higher-secondary-school/orissa/berhampur-orissa\" title=\"Higher Secondary School in Berhampur\">Berhampur</a> </li> <li><a href=\"https://www.edufrog.in/schools/higher-secondary-school/orissa/bhadrak\" title=\"Higher Secondary School in Bhadrak\">Bhadrak</a> </li> <li><a href=\"https://www.edufrog.in/schools/higher-secondary-school/orissa/bhawanipatna\" title=\"Higher Secondary School in Bhawanipatna\">Bhawanipatna</a> </li> <li><a href=\"https://www.edufrog.in/schools/higher-secondary-school/orissa/bhubaneswar\" title=\"Higher Secondary School in Bhubaneswar\">Bhubaneswar</a> </li> <li><a href=\"https://www.edufrog.in/schools/higher-secondary-school/orissa/brajrajnagar\" title=\"Higher Secondary School in Brajrajnagar\">Brajrajnagar</a> </li> <li><a href=\"https://www.edufrog.in/schools/higher-secondary-school/orissa/cuttack\" title=\"Higher Secondary School in Cuttack\">Cuttack</a> </li> <li><a href=\"https://www.edufrog.in/schools/higher-secondary-school/orissa/dhenkanal\" title=\"Higher Secondary School in Dhenkanal\">Dhenkanal</a> </li> <li><a href=\"https://www.edufrog.in/schools/higher-secondary-school/orissa/ganjam\" title=\"Higher Secondary School in Ganjam\">Ganjam</a> </li> <li><a href=\"https://www.edufrog.in/schools/higher-secondary-school/orissa/jagatsinghpur\" title=\"Higher Secondary School in Jagatsinghpur\">Jagatsinghpur</a> </li> <li><a href=\"https://www.edufrog.in/schools/higher-secondary-school/orissa/jajpur\" title=\"Higher Secondary School in Jajpur\">Jajpur</a> </li> <li><a href=\"https://www.edufrog.in/schools/higher-secondary-school/orissa/jharsuguda\" title=\"Higher Secondary School in Jharsuguda\">Jharsuguda</a> </li> <li><a href=\"https://www.edufrog.in/schools/higher-secondary-school/orissa/kalahandi\" title=\"Higher Secondary School in Kalahandi\">Kalahandi</a> </li> <li><a href=\"https://www.edufrog.in/schools/higher-secondary-school/orissa/kendrapara\" title=\"Higher Secondary School in Kendrapara\">Kendrapara</a> </li> <li><a href=\"https://www.edufrog.in/schools/higher-secondary-school/orissa/khurda\" title=\"Higher Secondary School in Khurda\">Khurda</a> </li> <li><a href=\"https://www.edufrog.in/schools/higher-secondary-school/orissa/koraput\" title=\"Higher Secondary School in Koraput\">Koraput</a> </li> <li><a href=\"https://www.edufrog.in/schools/higher-secondary-school/orissa/malkangiri\" title=\"Higher Secondary School in Malkangiri\">Malkangiri</a> </li> <li><a href=\"https://www.edufrog.in/schools/higher-secondary-school/orissa/mayurbhanj\" title=\"Higher Secondary School in Mayurbhanj\">Mayurbhanj</a> </li> <li><a href=\"https://www.edufrog.in/schools/higher-secondary-school/orissa/nayagarh-orissa\" title=\"Higher Secondary School in Nayagarh\">Nayagarh</a> </li> <li><a href=\"https://www.edufrog.in/schools/higher-secondary-school/orissa/nuapada\" title=\"Higher Secondary School in Nuapada\">Nuapada</a> </li> <li><a href=\"https://www.edufrog.in/schools/higher-secondary-school/orissa/phulbani\" title=\"Higher Secondary School in Phulbani\">Phulbani</a> </li> <li><a href=\"https://www.edufrog.in/schools/higher-secondary-school/orissa/puri\" title=\"Higher Secondary School in Puri\">Puri</a> </li> <li><a href=\"https://www.edufrog.in/schools/higher-secondary-school/orissa/rairangpur\" title=\"Higher Secondary School in Rairangpur\">Rairangpur</a> </li> <li><a href=\"https://www.edufrog.in/schools/higher-secondary-school/orissa/rayagada\" title=\"Higher Secondary School in Rayagada\">Rayagada</a> </li> <li><a href=\"https://www.edufrog.in/schools/higher-secondary-school/orissa/rourkela\" title=\"Higher Secondary School in Rourkela\">Rourkela</a> </li> <li><a href=\"https://www.edufrog.in/schools/higher-secondary-school/orissa/sambalpur\" title=\"Higher Secondary School in Sambalpur\">Sambalpur</a> </li> <li><a href=\"https://www.edufrog.in/schools/higher-secondary-school/orissa/subarnapur\" title=\"Higher Secondary School in Subarnapur\">Subarnapur</a> </li> <li><a href=\"https://www.edufrog.in/schools/higher-secondary-school/orissa/sundargarh\" title=\"Higher Secondary School in Sundargarh\">Sundargarh</a> </li> <li><a href=\"https://www.edufrog.in/schools/higher-secondary-school/orissa/boudh\" title=\"Higher Secondary School in Boudh\">Boudh</a> </li> <li><a href=\"https://www.edufrog.in/schools/higher-secondary-school/orissa/deogarh-orissa\" title=\"Higher Secondary School in Deogarh\">Deogarh</a> </li> <li><a href=\"https://www.edufrog.in/schools/higher-secondary-school/orissa/gajapati\" title=\"Higher Secondary School in Gajapati\">Gajapati</a> </li> <li><a href=\"https://www.edufrog.in/schools/higher-secondary-school/orissa/kandhamal\" title=\"Higher Secondary School in Kandhamal\">Kandhamal</a> </li> <li><a href=\"https://www.edufrog.in/schools/higher-secondary-school/orissa/kendujhar\" title=\"Higher Secondary School in Kendujhar\">Kendujhar</a> </li> <li><a href=\"https://www.edufrog.in/schools/higher-secondary-school/orissa/nabarangpur\" title=\"Higher Secondary School in Nabarangpur\">Nabarangpur</a> </li> <div class=\"clear\"></div></ul><div class=\"clear\"></div></div></div> <div class=\"ad-res\"><script async=\"\" src=\"//pagead2.googlesyndication.com/pagead/js/adsbygoogle.js\"></script><!-- elslargevRes --><ins class=\"adsbygoogle\" data-ad-client=\"ca-pub-5411435171721765\" data-ad-format=\"horizontal\" data-ad-slot=\"3660104734\" style=\"display:block\"></ins><script>(adsbygoogle = window.adsbygoogle || []).push({});</script> </div><div class=\"lising-wrap m1\"><div class=\"title\"><h1><i class=\"fa fa-th-list\"></i> List of Higher Secondary School in Orissa</h1></div><div class=\"post p0\" id=\"setrecord\"> <div class=\"listing\"><h3><a href=\"https://www.edufrog.in/schools/balika-vidyala-sambalpur-@7tab_ozj.html\">Balika Vidyala</a></h3><p><i class=\"fa fa-map-marker\"></i>KHETRAJPUR, KHETRAJPUR,, Sambalpur, Orissa - 768003,India</p></div> <div class=\"listing\"><h3><a href=\"https://www.edufrog.in/schools/amar-vani-school-angul-_rebak@_0.html\">Amar Vani School</a></h3><p><i class=\"fa fa-map-marker\"></i>P.O. Turang, P.O. Turang,, Angul, Orissa - 759123,India</p></div> <div class=\"listing\"><h3><a href=\"https://www.edufrog.in/schools/bethany-convent-school-jagatsinghpur-lnrs2s49m.html\">Bethany Convent School</a></h3><p><i class=\"fa fa-map-marker\"></i>Paradip Port Madhuban, Paradip Port Madhuban,, Jagatsinghpur, Orissa - 754142,India</p></div> <div class=\"listing\"><h3><a href=\"https://www.edufrog.in/schools/jawahar-navodaya-vidyalaya-jajpur-xk01pb9o6.html\">Jawahar Navodaya Vidyalaya</a></h3><p><i class=\"fa fa-map-marker\"></i>Panikoli High School, P.O. Panikoli, P.O. Panikoli,, Jajpur, Orissa - 755043,India</p></div> <div class=\"listing\" style=\"padding:10px 0\"><script async=\"\" src=\"//pagead2.googlesyndication.com/pagead/js/adsbygoogle.js\"></script><!-- elslargevRes --><ins class=\"adsbygoogle\" data-ad-client=\"ca-pub-5411435171721765\" data-ad-format=\"horizontal\" data-ad-slot=\"3660104734\" style=\"display:block\"></ins><script>(adsbygoogle = window.adsbygoogle || []).push({});</script> </div> <div class=\"listing\"><h3><a href=\"https://www.edufrog.in/schools/assembly-of-god-school-jharsuguda-9b4a1r12p.html\">Assembly Of God School</a></h3><p><i class=\"fa fa-map-marker\"></i>Cox Colony, Cox Colony,, Jharsuguda, Orissa - 738201,India</p></div> <div class=\"listing\"><h3><a href=\"https://www.edufrog.in/schools/bhagabat-dev-nodal-me-school-khurda-r14acajzl.html\">Bhagabat Dev Nodal M.E. School</a></h3><p><i class=\"fa fa-map-marker\"></i>Ankula, Belapada Balugaon, Belapada Balugaon,, Khurda, Orissa - 752030,India</p></div> <div class=\"listing\"><h3><a href=\"https://www.edufrog.in/schools/chinmaya-vidyalaya-em-sundargarh-o8hsdye3f.html\">Chinmaya Vidyalaya (E.M.)</a></h3><p><i class=\"fa fa-map-marker\"></i>Chhend Colony Rourkela, Chhend Colony Rourkela,, Sundargarh, Orissa - 769015,India</p></div> <div class=\"listing\"><h3><a href=\"https://www.edufrog.in/schools/einissi-mission-school-dhenkanal-ac813_b5m.html\">Einissi Mission School</a></h3><p><i class=\"fa fa-map-marker\"></i>Zion Nagar, Dharamgarh Dist-Kalahandi, Dharamgarh Dist-Kalahandi,, Dhenkanal, Orissa - 766015,India</p></div> <div class=\"listing\"><h3><a href=\"https://www.edufrog.in/schools/kerala-public-school-rairangpur-jq_auh1y6.html\">Kerala Public School</a></h3><p><i class=\"fa fa-map-marker\"></i>Ichinda Road, Ichinda Road,, Rairangpur, Orissa - 757043,India</p></div> <div class=\"listing\"><h3><a href=\"https://www.edufrog.in/schools/govt-high-school-nabarangpur-qgzbju9_0.html\">Govt High School</a></h3><p><i class=\"fa fa-map-marker\"></i>Near Govt Hospital, Near Govt Hospital,, Nabarangpur, Orissa - 764061,India</p></div> <div class=\"listing\"><h3><a href=\"https://www.edufrog.in/schools/carmel-english-medium-school-phulbani-@ovad48ql.html\">Carmel English Medium School</a></h3><p><i class=\"fa fa-map-marker\"></i>H O Phulbani, H O Phulbani,, Phulbani, Orissa - 762001,India</p></div> <div class=\"listing\"><h3><a href=\"https://www.edufrog.in/schools/jawahar-navodaya-vidyalaya-nayagarh-orissa-@nuboa9ks.html\">Jawahar Navodaya Vidyalaya</a></h3><p><i class=\"fa fa-map-marker\"></i>P.O. Lathipada, P.O. Lathipada,, Nayagarh, Orissa - 752079,India</p></div> <div class=\"listing\"><h3><a href=\"https://www.edufrog.in/schools/harobino-vidya-bhawan-berhampur-orissa-w9qbkrnvn.html\">Harobino Vidya Bhawan</a></h3><p><i class=\"fa fa-map-marker\"></i>Hill Patna, Hill Patna,, Berhampur, Orissa - 760005,India</p></div> <div class=\"listing\"><h3><a href=\"https://www.edufrog.in/schools/town-high-school-bhawanipatna-cvq3t_1ux.html\">Town High School</a></h3><p><i class=\"fa fa-map-marker\"></i>Kalahandi, Kalahandi,, Bhawanipatna, Orissa - ,India</p></div> <div class=\"listing\"><h3><a href=\"https://www.edufrog.in/schools/el-nissi-mission-school-kalahandi-9201eq407.html\">EL Nissi Mission School</a></h3><p><i class=\"fa fa-map-marker\"></i>Zion Nagar Dharam Garh, Zion Nagar Dharam Garh,, Kalahandi, Orissa - 766015,India</p></div> <div class=\"listing\"><h3><a href=\"https://www.edufrog.in/schools/aum-valley-school-balangir-h1u1s9c6i.html\">Aum Valley School</a></h3><p><i class=\"fa fa-map-marker\"></i>Charbhata, Charbhata,, Balangir, Orissa - 767033,India</p></div> <div class=\"listing\"><h3><a href=\"https://www.edufrog.in/schools/jawahar-navodaya-vidyalaya-subarnapur-umja8brxc.html\">Jawahar Navodaya Vidyalaya</a></h3><p><i class=\"fa fa-map-marker\"></i>Tarbha, Tarbha,, Subarnapur, Orissa - 767016,India</p></div> <div class=\"listing\"><h3><a href=\"https://www.edufrog.in/schools/jawahar-navodaya-vidyalaya-kendrapara-oq81z192_.html\">Jawahar Navodaya Vidyalaya</a></h3><p><i class=\"fa fa-map-marker\"></i>D.S. Law College Campus, P.O. Baro, P.O. Baro,, Kendrapara, Orissa - 754251,India</p></div> <div class=\"listing\"><h3><a href=\"https://www.edufrog.in/schools/anand-niketan-koraput-wjabsknv6.html\">Anand Niketan</a></h3><p><i class=\"fa fa-map-marker\"></i>Post-Lamtaput, Post-Lamtaput,, Koraput, Orissa - 764081,India</p></div> <div class=\"listing\"><h3><a href=\"https://www.edufrog.in/schools/fatepur-high-school-balasore-svzbhspgc.html\">Fatepur High School</a></h3><p><i class=\"fa fa-map-marker\"></i>At/Po - Fatepur Via - Khaira, At/Po - Fatepur Via - Khaira,, Balasore, Orissa - 756048,India</p></div> <div class=\"listing\"><h3><a href=\"https://www.edufrog.in/schools/aditya-birla-public-school-rayagada-bo7bacq9v.html\">Aditya Birla Public School</a></h3><p><i class=\"fa fa-map-marker\"></i>P.O. Kuchiepadar, P.O. Kuchiepadar,, Rayagada, Orissa - 765015,India</p></div> <div class=\"listing\"><h3><a href=\"https://www.edufrog.in/schools/durga-prasad-saraf-vidyapeeth-bhadrak-io1s3z6hf.html\">Durga Prasad Saraf Vidyapeeth</a></h3><p><i class=\"fa fa-map-marker\"></i>D P Nagar, D P Nagar,, Bhadrak, Orissa - 756135,India</p></div> <div class=\"listing\"><h3><a href=\"https://www.edufrog.in/schools/army-school-ganjam-s0ebs8@ay.html\">Army School</a></h3><p><i class=\"fa fa-map-marker\"></i>Gopalpur Golabandha, Gopalpur Golabandha,, Ganjam, Orissa - 761052,India</p></div> <div class=\"listing\"><h3><a href=\"https://www.edufrog.in/schools/agrahar-charbatia-agrahat-high-school-cuttack-uh0ba@@i8.html\">Agrahar Charbatia Agrahat High School</a></h3><p><i class=\"fa fa-map-marker\"></i>Charbatia, Choudwar, Choudwar,, Cuttack, Orissa - 754025,India</p></div> <div class=\"listing\"><h3><a href=\"https://www.edufrog.in/schools/kendriya-vidyalaya-baripada-wezausf74.html\">Kendriya Vidyalaya</a></h3><p><i class=\"fa fa-map-marker\"></i>Laxmiposi, Laxmiposi,, Baripada, Orissa - 757107,India</p></div> <div class=\"listing\"><h3><a href=\"https://www.edufrog.in/schools/jawahar-navodaya-vidyalaya-bargarh-doiazsr88.html\">Jawahar Navodaya Vidyalaya</a></h3><p><i class=\"fa fa-map-marker\"></i>P.O. Paikmal, Main Road Tehsil, Main Road Tehsil,, Bargarh, Orissa - 768039,India</p></div> <div class=\"listing\"><h3><a href=\"https://www.edufrog.in/schools/blessed-sacrament-high-school-puri-nuabtd_m4.html\">Blessed Sacrament High School</a></h3><p><i class=\"fa fa-map-marker\"></i>H O Puri, H O Puri,, Puri, Orissa - 752001,India</p></div> <div class=\"listing\"><h3><a href=\"https://www.edufrog.in/schools/alok-em-high-school-bhubaneswar-@7ibawfa7.html\">Alok E.M. High School</a></h3><p><i class=\"fa fa-map-marker\"></i>186, Unit 3, Kharvel Nagar, Kharvel Nagar,, Bhubaneswar, Orissa - 751001,India</p></div> <div class=\"listing\"><h3><a href=\"https://www.edufrog.in/schools/balibarei-high-school-kendujhar-r5fasup78.html\">Balibarei High School</a></h3><p><i class=\"fa fa-map-marker\"></i>At/Po-Balibarei, Via-Hadagarh, Dist-Keonjhar, Dist-Keonjhar,, Kendujhar, Orissa - 758023,India</p></div> <div class=\"listing\"><h3><a href=\"https://www.edufrog.in/schools/jawahar-navodya-vidyalaya-nuapada-95aso2xfc.html\">Jawahar Navodya Vidyalaya</a></h3><p><i class=\"fa fa-map-marker\"></i>Po-Tarbod, Po-Tarbod,, Nuapada, Orissa - 766105,India</p></div> <div class=\"listing\"><h3><a href=\"https://www.edufrog.in/schools/belphar-english-med-school-rourkela-9_is2ah35.html\">Belphar English Med School</a></h3><p><i class=\"fa fa-map-marker\"></i>TATA REFRACTORY COLONY BELP[AHAR, JHARSUGUDA, JHARSUGUDA,, Rourkela, Orissa - 768218,India</p></div> <div class=\"listing\"><h3><a href=\"https://www.edufrog.in/schools/shikshya-niketan-brajrajnagar-t_lc9fmzd.html\">Shikshya Niketan</a></h3><p><i class=\"fa fa-map-marker\"></i>Paper Mill Colony Brajrajnagar Jharsuguda, Paper Mill Colony Brajrajnagar Jharsuguda,, Brajrajnagar, Orissa - ,India</p></div> <div class=\"listing\"><h3><a href=\"https://www.edufrog.in/schools/asanjoda-girls-high-school-mayurbhanj-qflaao62i.html\">Asanjoda Girl's High School</a></h3><p><i class=\"fa fa-map-marker\"></i>Ansjoda P.O. Kuchei, Via- Kuliana, Via- Kuliana,, Mayurbhanj, Orissa - ,India</p></div> <div class=\"listing\"><h3><a href=\"https://www.edufrog.in/schools/jawahar-navodaya-vidyalaya-boudh-d6ub8b9e3.html\">Jawahar Navodaya Vidyalaya</a></h3><p><i class=\"fa fa-map-marker\"></i>J.D. High School Hostel Bldg. P.O. Boudh, J.D. High School Hostel Bldg. P.O. Boudh,, Boudh, Orissa - 762014,India</p></div> <div class=\"listing\"><h3><a href=\"https://www.edufrog.in/schools/jawahar-navodaya-vidyalaya-deogarh-orissa-g@qb8b9zy.html\">Jawahar Navodaya Vidyalaya</a></h3><p><i class=\"fa fa-map-marker\"></i>AT- R.B.D. High School Hostel Campus P.O. Deogarh, AT- R.B.D. High School Hostel Campus P.O. Deogarh,, Deogarh, Orissa - 768108,India</p></div> <div class=\"listing\"><h3><a href=\"https://www.edufrog.in/schools/st-xaviers-school-kandhamal-q1qf2w1du.html\">St. Xavier's School</a></h3><p><i class=\"fa fa-map-marker\"></i>PO Rutungia, PO Rutungia,, Kandhamal, Orissa - 762103,India</p></div> <div class=\"listing\"><h3><a href=\"https://www.edufrog.in/schools/boys-high-school-gajapati-yfb1t3511.html\">Boys' High School</a></h3><p><i class=\"fa fa-map-marker\"></i>Chandragiri, Chandragiri,, Gajapati, Orissa - 761017,India</p></div> <div class=\"listing\"><h3><a href=\"https://www.edufrog.in/schools/jawahar-navodaya-vidyalaya-malkangiri-r9pa81r32.html\">Jawahar Navodaya Vidyalaya</a></h3><p><i class=\"fa fa-map-marker\"></i>Govt. Sci. College Campus, P.O. Malkangiri Colony, P.O. Malkangiri Colony,, Malkangiri, Orissa - 764048,India</p></div> </div> </div> </div><div class=\"col-lg-4 col-md-4 col-sm-12\"><div> <div class=\"title\"><h3><i class=\"fa fa-bullhorn\"></i>Advertisement</h3></div> <div class=\"post\"> <div class=\"ad-336\"> <script async=\"\" src=\"//pagead2.googlesyndication.com/pagead/js/adsbygoogle.js\"></script><!-- elslargev --><ins class=\"adsbygoogle\" data-ad-client=\"ca-pub-5411435171721765\" data-ad-slot=\"9829453537\" style=\"display:inline-block;width:300px;height:250px\"></ins><script>(adsbygoogle = window.adsbygoogle || []).push({});</script> </div> </div></div><div><div class=\"title m1\"><h3><i class=\"fa fa-list-alt\"></i>Schools by Categoty</h3></div><ul class=\"list-group\"><li class=\"list-group-item\"><a href=\"https://www.edufrog.in/schools/air-force-school\">Air Force School</a></li> <li class=\"list-group-item\"><a href=\"https://www.edufrog.in/schools/government-school\">Government School</a></li> <li class=\"list-group-item\"><a href=\"https://www.edufrog.in/schools/nursery-school\">Nursery School</a></li> <li class=\"list-group-item\"><a href=\"https://www.edufrog.in/schools/play-school\">Play School</a></li> <li class=\"list-group-item\"><a href=\"https://www.edufrog.in/schools/primary-school\">Primary School</a></li> <li class=\"list-group-item\"><a href=\"https://www.edufrog.in/schools/private-school\">Private School</a></li> <li class=\"list-group-item\"><a href=\"https://www.edufrog.in/schools/senior-secondary-school\">Senior Secondary School</a></li> <li class=\"list-group-item\"><a href=\"https://www.edufrog.in/schools/public-school\">Public School</a></li> <li class=\"list-group-item\"><a href=\"https://www.edufrog.in/schools/army-military-school\">Army/Military School</a></li> <li class=\"list-group-item\"><a href=\"https://www.edufrog.in/schools/boarding-school\">Boarding School</a></li> <li class=\"list-group-item\"><a href=\"https://www.edufrog.in/schools/international-school\">International School</a></li> </ul></div> <div> <script id=\"mNCC\" language=\"javascript\"> medianet_width = \"336\"; medianet_height = \"280\"; medianet_crid = \"377514851\"; medianet_versionId = \"3111299\"; </script><script src=\"//contextual.media.net/nmedianet.js?cid=8CU5P8N3J\"></script> </div> </div> </div> </div></div> <div id=\"footer-bottom\"> <div class=\"container\"> <div class=\"row\"><div class=\"col-lg-6 col-md-6 col-sm-12\"><div class=\"f-copyright\"><p>Copyright © 2024 eduFROG All rights reserved.</p></div></div><div class=\"col-lg-6 col-md-6 col-sm-12\"><div class=\"social\"><p>Share this Page on  <!-- Facebook --><a href=\"javascript:void(0);\" onclick=\"window.open('http://www.facebook.com/sharer.php?u=https://www.edufrog.in/schools/higher-secondary-school/orissa');\"><img alt=\"Facebook\" src=\"https://www.edufrog.in/images/share/facebook.png\"/></a><!-- Twitter --><a href=\"javascript:void(0);\" onclick=\"window.open('http://twitter.com/share?url=https://www.edufrog.in/schools/higher-secondary-school/orissa&amp;text=eduFROG&amp;hashtags=eduFROG');\"><img alt=\"Twitter\" src=\"https://www.edufrog.in/images/share/twitter.png\"/></a><!-- Google+ --><a href=\"javascript:void(0);\" onclick=\"window.open('https://plus.google.com/share?url=https://www.edufrog.in/schools/higher-secondary-school/orissa');\"><img alt=\"Google\" src=\"https://www.edufrog.in/images/share/google.png\"/></a><!-- Digg --><a href=\"javascript:void(0);\" onclick=\"window.open('http://www.digg.com/submit?url=https://www.edufrog.in/schools/higher-secondary-school/orissa');\"><img alt=\"Digg\" src=\"https://www.edufrog.in/images/share/diggit.png\"/></a><!-- Reddit --><a href=\"javascript:void(0);\" onclick=\"window.open('http://reddit.com/submit?url=https://www.edufrog.in/schools/higher-secondary-school/orissa&amp;title=eduFROG');\"><img alt=\"Reddit\" src=\"https://www.edufrog.in/images/share/reddit.png\"/></a><!-- LinkedIn --><a href=\"javascript:void(0);\" onclick=\"window.open('http://www.linkedin.com/shareArticle?mini=true&amp;url=https://www.edufrog.in/schools/higher-secondary-school/orissa');\"><img alt=\"LinkedIn\" src=\"https://www.edufrog.in/images/share/linkedin.png\"/></a><!-- Pinterest --><a href=\"javascript:void((function()%7Bvar%20e=document.createElement('script');e.setAttribute('type','text/javascript');e.setAttribute('charset','UTF-8');e.setAttribute('src','http://assets.pinterest.com/js/pinmarklet.js?r='+Math.random()*99999999);document.body.appendChild(e)%7D)());\"><img alt=\"Pinterest\" src=\"https://www.edufrog.in/images/share/pinterest.png\"/></a><!-- StumbleUpon--><a href=\"javascript:void(0);\" onclick=\"window.open('http://www.stumbleupon.com/submit?url=https://www.edufrog.in/schools/higher-secondary-school/orissa&amp;title=eduFROG');\"><img alt=\"StumbleUpon\" src=\"https://www.edufrog.in/images/share/stumbleupon.png\"/></a><!-- Email --><a href=\"javascript:void(0);\" onclick=\"window.location='mailto:?Subject=eduFROG&amp;Body=eduFROG https://www.edufrog.in/schools/higher-secondary-school/orissa'\"><img alt=\"Email\" src=\"https://www.edufrog.in/images/share/email.png\"/></a></p></div></div></div></div></div><script src=\"https://ajax.googleapis.com/ajax/libs/jquery/2.1.3/jquery.min.js\"></script><script src=\"https://maxcdn.bootstrapcdn.com/bootstrap/3.2.0/js/bootstrap.min.js\"></script><!--[if lt IE 9]> <script src=\"https://oss.maxcdn.com/libs/html5shiv/3.7.0/html5shiv.js\"></script> <script src=\"https://oss.maxcdn.com/libs/respond.js/1.4.2/respond.min.js\"></script><![endif]--><script src=\"https://www.edufrog.in/js/bootstrap-typeahead.js\"></script><script type=\"text/javascript\">jQuery.noConflict();\t(function($) {\n",
      "$(document).ready(function(){\t$('#searchText').typeahead({\tsource: function (query, process) {\t$('#searchText').addClass(\"lodn\");\t$.ajax({\turl: 'https://www.edufrog.in/search',\ttype: 'GET',\tdataType: 'JSON',\tdata: 'q=' + query,\tsuccess: function(data) {\t$('#searchText').removeClass(\"lodn\");\tprocess(data);\t}\t});\t},\tupdater : function(item){\tvar nm=item.split(',',1);\t$('#searchVal').val(item);\tvar nnm=nm[0];\tnnm = nnm.replace(' <span class=\"searchAJ-id\">','');\tthis.$element[0].value = nnm;\tthis.$element[0].form.submit();\treturn nnm;\t} });\n",
      "});\n",
      "})(jQuery);\n",
      "function changeUrl(action,value)\n",
      "{\tif(action==\"cat\")\t{\tlocation.href=\"https://www.edufrog.in/\"+value;\t}\telse if(action==\"type\")\t{\tvar cat = document.getElementById(\"catlist\").value;\tlocation.href=\"https://www.edufrog.in/\"+cat+'/'+value;\t}\telse if(action==\"state\")\t{\tvar type = document.getElementById(\"typelist\").value;\tvar cat = document.getElementById(\"catlist\").value;\tlocation.href=\"https://www.edufrog.in/\"+cat+'/'+type+'/'+value;\t}\telse if(action==\"city\")\t{\tvar type = document.getElementById(\"typelist\").value;\tvar cat = document.getElementById(\"catlist\").value;\tvar state = document.getElementById(\"statelist\").value;\tlocation.href=\"https://www.edufrog.in/\"+cat+'/'+type+'/'+state+'/'+value;\t}\n",
      "}\n",
      "function showMoreRecord(page,mcatid,keyword,state,city,divId)\n",
      "{\tvar seurl = \"page=\"+page+\"&mcatid=\"+mcatid+\"&keyword=\"+keyword+\"&state=\"+state+\"&city=\"+city;\tvar xmlhttp;\tif (window.XMLHttpRequest)\t{\txmlhttp=new XMLHttpRequest();\t}\telse\t{\txmlhttp=new ActiveXObject(\"Microsoft.XMLHTTP\");\t};\txmlhttp.onreadystatechange=function()\t{\tif (xmlhttp.readyState==4 && xmlhttp.status==200)\t{\tpage = +page + 1;\tif(xmlhttp.responseText.trim()==\"\")\t{\tdocument.getElementById('loadmsg').style.display = 'none';\tdocument.getElementById('pagination').style.display = 'none';\t}\telse\t{\tdocument.getElementById(divId).innerHTML=document.getElementById(divId).innerHTML + xmlhttp.responseText;\tdocument.getElementById('loadmsg').style.display = 'none';\tdocument.getElementById('pagination').style.display = 'block';\t}\tdocument.getElementById(\"loadmore\").setAttribute(\"onClick\",\"javascript:showMoreRecord(\"+page+\",'\"+mcatid+\"','\"+keyword+\"','\"+state+\"','\"+city+\"','\"+divId+\"');\");\t}\telse\t{\tdocument.getElementById('loadmsg').style.display = 'block';\tdocument.getElementById('pagination').style.display = 'none';\t};\t};\txmlhttp.open(\"POST\",\"https://www.edufrog.in/importlisting.html\",true);\txmlhttp.setRequestHeader(\"Content-type\", \"application/x-www-form-urlencoded\");\txmlhttp.send(seurl);\n",
      "}</script> </body></html>\n"
     ]
    }
   ],
   "source": [
    "url = \"https://www.edufrog.in/schools/higher-secondary-school/orissa\"\n",
    "r = requests.get(url)\n",
    "soup = BeautifulSoup(r.content, \"html.parser\")\n",
    "\n",
    "print(r)\n",
    "print(soup)"
   ]
  },
  {
   "cell_type": "code",
   "execution_count": 77,
   "id": "7ab8e7d5-3563-4d0d-ad71-83f452f7479f",
   "metadata": {},
   "outputs": [
    {
     "name": "stdout",
     "output_type": "stream",
     "text": [
      "        District                                             School\n",
      "0          Angul                                                   \n",
      "1          Angul  Chinmaya VidyalayaDeepshika Po, Deepshika Po,,...\n",
      "2          Angul                                                   \n",
      "3          Angul  Jairat High SchoolPO- Rajkishorenagar Dist:Ang...\n",
      "4          Angul                                                   \n",
      "..           ...                                                ...\n",
      "502  Nabarangpur                                                   \n",
      "503  Nabarangpur  Govt High SchoolNear Govt Hospital, Near Govt ...\n",
      "504  Nabarangpur                                                   \n",
      "505  Nabarangpur  Jawahar Navodaya VidyalayaKhatiguda, Khatiguda...\n",
      "506  Nabarangpur                                                   \n",
      "\n",
      "[507 rows x 2 columns]\n"
     ]
    }
   ],
   "source": [
    "\n",
    "district=['angul', 'balangir', 'balasore', 'bargarh', 'baripada', 'berhampur', 'bhadrak',\n",
    "          'bhawanipatna', 'bhubaneswar', 'brajrajnagar', 'cuttack', 'dhenkanal', 'ganjam', \n",
    "          'jagatsinghpur', 'jajpur', 'jharsuguda', 'kalahandi', 'kendrapara', 'khurda', 'koraput',\n",
    "          'malkangiri', 'mayurbhanj', 'nayagarh', 'nuapada', 'phulbani', 'puri', 'rairangpur', 'rayagada', \n",
    "          'rourkela', 'sambalpur', 'subarnapur', 'sundargarh', 'boudh', 'deogarh', 'gajapati', 'kandhamal', 'kendujhar', 'nabarangpur']\n",
    "\n",
    "# Create an empty DataFrame to store the school data\n",
    "school_df = pd.DataFrame(columns=['District', 'School'])\n",
    "\n",
    "for i in district:\n",
    "    url = \"https://www.edufrog.in/schools/higher-secondary-school/orissa/\" + i\n",
    "    r = requests.get(url)\n",
    "    soup = BeautifulSoup(r.content, \"html.parser\")\n",
    "    box = soup.find(\"div\", class_=\"post p0\")\n",
    "    #  to handle the case where box is None\n",
    "    schools = [y.text.strip() for y in box] if box else [] \n",
    "    # Create a DataFrame for the schools of the current district\n",
    "    district_df = pd.DataFrame({'School': schools})\n",
    "    district_df['District'] = i.capitalize()\n",
    "    # Append the DataFrame for the current district to the main DataFrame\n",
    "    school_df = pd.concat([school_df, district_df], ignore_index=True)\n",
    "\n",
    "\n",
    "print(school_df)\n"
   ]
  },
  {
   "cell_type": "code",
   "execution_count": 78,
   "id": "df347a47-4279-4086-8959-aa6ad295de54",
   "metadata": {},
   "outputs": [],
   "source": [
    "school_df.to_excel(\"HS School Odisha.xlsx\") # convert data frame to excel"
   ]
  },
  {
   "cell_type": "code",
   "execution_count": 79,
   "id": "d89c93fa-aa09-4ded-a266-d15d88737437",
   "metadata": {},
   "outputs": [],
   "source": [
    "#clean school data"
   ]
  },
  {
   "cell_type": "code",
   "execution_count": 83,
   "id": "4d3f656f-d04c-4cc3-b884-06ad1dcb85fe",
   "metadata": {},
   "outputs": [
    {
     "data": {
      "text/html": [
       "<div>\n",
       "<style scoped>\n",
       "    .dataframe tbody tr th:only-of-type {\n",
       "        vertical-align: middle;\n",
       "    }\n",
       "\n",
       "    .dataframe tbody tr th {\n",
       "        vertical-align: top;\n",
       "    }\n",
       "\n",
       "    .dataframe thead th {\n",
       "        text-align: right;\n",
       "    }\n",
       "</style>\n",
       "<table border=\"1\" class=\"dataframe\">\n",
       "  <thead>\n",
       "    <tr style=\"text-align: right;\">\n",
       "      <th></th>\n",
       "      <th>District</th>\n",
       "      <th>school</th>\n",
       "      <th>Zip</th>\n",
       "    </tr>\n",
       "    <tr>\n",
       "      <th>sl.No</th>\n",
       "      <th></th>\n",
       "      <th></th>\n",
       "      <th></th>\n",
       "    </tr>\n",
       "  </thead>\n",
       "  <tbody>\n",
       "    <tr>\n",
       "      <th>1</th>\n",
       "      <td>Angul</td>\n",
       "      <td>Chinmaya VidyalayaDeepshika Po, Deepshika Po,,...</td>\n",
       "      <td>759147</td>\n",
       "    </tr>\n",
       "    <tr>\n",
       "      <th>2</th>\n",
       "      <td>Angul</td>\n",
       "      <td>Jairat High SchoolPO- Rajkishorenagar Dist:Ang...</td>\n",
       "      <td>759126</td>\n",
       "    </tr>\n",
       "    <tr>\n",
       "      <th>3</th>\n",
       "      <td>Angul</td>\n",
       "      <td>Amar Vani SchoolP.O. Turang, P.O. Turang,, Ang...</td>\n",
       "      <td>759123</td>\n",
       "    </tr>\n",
       "    <tr>\n",
       "      <th>4</th>\n",
       "      <td>Angul</td>\n",
       "      <td>Jawahar Navodaya Vidayala (J.N.V.)Fci P.O. Vik...</td>\n",
       "      <td>759106</td>\n",
       "    </tr>\n",
       "    <tr>\n",
       "      <th>5</th>\n",
       "      <td>Angul</td>\n",
       "      <td>Rotary Public SchoolP.O. Angul, P.O. Angul,, A...</td>\n",
       "      <td>759122</td>\n",
       "    </tr>\n",
       "    <tr>\n",
       "      <th>...</th>\n",
       "      <td>...</td>\n",
       "      <td>...</td>\n",
       "      <td>...</td>\n",
       "    </tr>\n",
       "    <tr>\n",
       "      <th>214</th>\n",
       "      <td>Kendujhar</td>\n",
       "      <td>Kendriya VidyalayaOld Town, Old Town,, Kendujh...</td>\n",
       "      <td>758002</td>\n",
       "    </tr>\n",
       "    <tr>\n",
       "      <th>215</th>\n",
       "      <td>Kendujhar</td>\n",
       "      <td>St.Mary's SchoolBarbil, Barbil,, Kendujhar, Or...</td>\n",
       "      <td>758035</td>\n",
       "    </tr>\n",
       "    <tr>\n",
       "      <th>216</th>\n",
       "      <td>Kendujhar</td>\n",
       "      <td>Jawahar Navodaya VidyalayaHadagarh, Hadagarh,,...</td>\n",
       "      <td>758023</td>\n",
       "    </tr>\n",
       "    <tr>\n",
       "      <th>217</th>\n",
       "      <td>Nabarangpur</td>\n",
       "      <td>Govt High SchoolNear Govt Hospital, Near Govt ...</td>\n",
       "      <td>764061</td>\n",
       "    </tr>\n",
       "    <tr>\n",
       "      <th>218</th>\n",
       "      <td>Nabarangpur</td>\n",
       "      <td>Jawahar Navodaya VidyalayaKhatiguda, Khatiguda...</td>\n",
       "      <td>764085</td>\n",
       "    </tr>\n",
       "  </tbody>\n",
       "</table>\n",
       "<p>218 rows × 3 columns</p>\n",
       "</div>"
      ],
      "text/plain": [
       "         District                                              school     Zip\n",
       "sl.No                                                                        \n",
       "1            Angul  Chinmaya VidyalayaDeepshika Po, Deepshika Po,,...  759147\n",
       "2            Angul  Jairat High SchoolPO- Rajkishorenagar Dist:Ang...  759126\n",
       "3            Angul  Amar Vani SchoolP.O. Turang, P.O. Turang,, Ang...  759123\n",
       "4            Angul  Jawahar Navodaya Vidayala (J.N.V.)Fci P.O. Vik...  759106\n",
       "5            Angul  Rotary Public SchoolP.O. Angul, P.O. Angul,, A...  759122\n",
       "...            ...                                                ...     ...\n",
       "214      Kendujhar  Kendriya VidyalayaOld Town, Old Town,, Kendujh...  758002\n",
       "215      Kendujhar  St.Mary's SchoolBarbil, Barbil,, Kendujhar, Or...  758035\n",
       "216      Kendujhar  Jawahar Navodaya VidyalayaHadagarh, Hadagarh,,...  758023\n",
       "217    Nabarangpur  Govt High SchoolNear Govt Hospital, Near Govt ...  764061\n",
       "218    Nabarangpur  Jawahar Navodaya VidyalayaKhatiguda, Khatiguda...  764085\n",
       "\n",
       "[218 rows x 3 columns]"
      ]
     },
     "execution_count": 83,
     "metadata": {},
     "output_type": "execute_result"
    }
   ],
   "source": [
    "df1=pd.read_excel(\"HS School Odisha.xlsx\",index_col=\"sl.No\")\n",
    "df1"
   ]
  }
 ],
 "metadata": {
  "kernelspec": {
   "display_name": "Python 3 (ipykernel)",
   "language": "python",
   "name": "python3"
  },
  "language_info": {
   "codemirror_mode": {
    "name": "ipython",
    "version": 3
   },
   "file_extension": ".py",
   "mimetype": "text/x-python",
   "name": "python",
   "nbconvert_exporter": "python",
   "pygments_lexer": "ipython3",
   "version": "3.11.7"
  }
 },
 "nbformat": 4,
 "nbformat_minor": 5
}
