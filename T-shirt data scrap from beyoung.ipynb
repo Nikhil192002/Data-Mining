{
 "cells": [
  {
   "cell_type": "code",
   "execution_count": 1,
   "id": "a6923c15-51cb-4c90-be6f-e78ea2502c45",
   "metadata": {},
   "outputs": [],
   "source": [
    "import requests\n",
    "from bs4 import BeautifulSoup"
   ]
  },
  {
   "cell_type": "code",
   "execution_count": 2,
   "id": "e8e82eff-3221-4239-bebe-802118020dea",
   "metadata": {},
   "outputs": [
    {
     "name": "stdout",
     "output_type": "stream",
     "text": [
      "<Response [200]>\n"
     ]
    }
   ],
   "source": [
    "productnames = []\n",
    "\n",
    "url = \"https://www.beyoung.in/tshirts/size-s\"\n",
    "r = requests.get(url)\n",
    "soup = BeautifulSoup(r.content, \"html.parser\")\n",
    "\n",
    "print(r)"
   ]
  },
  {
   "cell_type": "code",
   "execution_count": 3,
   "id": "cda7b538-7ff1-481d-8d7d-6d2171e8899d",
   "metadata": {},
   "outputs": [
    {
     "name": "stdout",
     "output_type": "stream",
     "text": [
      "['Black Plain Oversized T-shirt for MenOversized T-Shirts ₹499  ₹699 (29% off)', 'Relax Printed T-shirt for MenPrinted T-Shirts ₹329  ₹549 (40% off)', 'Out of Office Half Sleeve T-shirt for MenPrinted T-Shirts ₹349  ₹549 (36% off)', 'Lilac Plain T-ShirtPlain T-shirt - Regular Fit ₹349  ₹499 (30% off)', 'Seafoam Green Plain T-ShirtPlain T-shirt - Regular Fit ₹349  ₹499 (30% off)', 'Black-Yellow Color Block Oversized T-shirt for MenOversized T-Shirts ₹549  ₹1199 (54% off)', 'Superior Black Color Block Oversized T-shirt for MenOversized T-Shirts ₹549  ₹1199 (54% off)', 'Swag Printed Oversized T-shirt for MenOversized T-Shirts ₹549  ₹1199 (54% off)', 'Extra Terrestrial Printed Oversized T-shirt for MenOversized T-Shirts ₹549  ₹1199 (54% off)', 'Light Grey Plain Oversized T-shirt for MenOversized T-Shirts ₹499  ₹699 (29% off)', 'Smoke Grey Raglan Men Active T-shirtActivewear ₹399  ₹899 (56% off)', 'Music Panda Mens T-shirtPrinted T-Shirts ₹329  ₹549 (40% off)']\n"
     ]
    }
   ],
   "source": [
    "# extract all the product name\n",
    "product_boxes = soup.find_all(\"div\", class_=\"products-details\")\n",
    "\n",
    "for box in product_boxes:\n",
    "    # Extract the product name\n",
    "    name = box.text.strip()\n",
    "    productnames.append(name)\n",
    "\n",
    "print(productnames)\n"
   ]
  },
  {
   "cell_type": "code",
   "execution_count": 4,
   "id": "c06b8656-f821-4cdb-ba55-737e62e31c58",
   "metadata": {},
   "outputs": [
    {
     "name": "stdout",
     "output_type": "stream",
     "text": [
      "['Oversized T-Shirts', 'Printed T-Shirts', 'Printed T-Shirts', 'Plain T-shirt - Regular Fit', 'Plain T-shirt - Regular Fit', 'Oversized T-Shirts', 'Oversized T-Shirts', 'Oversized T-Shirts', 'Oversized T-Shirts', 'Oversized T-Shirts', 'Activewear', 'Printed T-Shirts']\n"
     ]
    }
   ],
   "source": [
    "#extracct all the product_catogory\n",
    "catogory=[]\n",
    "product_catogory = soup.find_all(\"span\", class_=\"category-product-sub\")\n",
    "for box in product_catogory:\n",
    "    c= box.text.strip()\n",
    "    catogory.append(c)\n",
    "print(catogory)"
   ]
  },
  {
   "cell_type": "code",
   "execution_count": 5,
   "id": "742859b2-accc-4fde-b74b-7ed448c2ea3f",
   "metadata": {},
   "outputs": [
    {
     "name": "stdout",
     "output_type": "stream",
     "text": [
      "['₹499  ₹699 (29% off)', '₹329  ₹549 (40% off)', '₹349  ₹549 (36% off)', '₹349  ₹499 (30% off)', '₹349  ₹499 (30% off)', '₹549  ₹1199 (54% off)', '₹549  ₹1199 (54% off)', '₹549  ₹1199 (54% off)', '₹549  ₹1199 (54% off)', '₹499  ₹699 (29% off)', '₹399  ₹899 (56% off)', '₹329  ₹549 (40% off)']\n"
     ]
    }
   ],
   "source": [
    "price=[]   # extract price\n",
    "product_price=soup.find_all(\"div\", class_=\"price\")\n",
    "for x in product_price:\n",
    "    p=x.text.strip()\n",
    "    price.append(p)\n",
    "print(price)"
   ]
  },
  {
   "cell_type": "code",
   "execution_count": 6,
   "id": "e8b44f44-30cb-4b7d-8707-9f9b6ec62230",
   "metadata": {},
   "outputs": [
    {
     "name": "stdout",
     "output_type": "stream",
     "text": [
      "12\n",
      "12\n",
      "12\n"
     ]
    }
   ],
   "source": [
    "print(len(productnames)) ; print(len(price)) ; print(len(catogory))   # checking the len of the all data"
   ]
  },
  {
   "cell_type": "code",
   "execution_count": 7,
   "id": "b79c7f98-fb40-4de0-a592-159a3b568658",
   "metadata": {},
   "outputs": [
    {
     "data": {
      "text/html": [
       "<div>\n",
       "<style scoped>\n",
       "    .dataframe tbody tr th:only-of-type {\n",
       "        vertical-align: middle;\n",
       "    }\n",
       "\n",
       "    .dataframe tbody tr th {\n",
       "        vertical-align: top;\n",
       "    }\n",
       "\n",
       "    .dataframe thead th {\n",
       "        text-align: right;\n",
       "    }\n",
       "</style>\n",
       "<table border=\"1\" class=\"dataframe\">\n",
       "  <thead>\n",
       "    <tr style=\"text-align: right;\">\n",
       "      <th></th>\n",
       "      <th>Product_name</th>\n",
       "      <th>product_catogory</th>\n",
       "      <th>price</th>\n",
       "    </tr>\n",
       "  </thead>\n",
       "  <tbody>\n",
       "    <tr>\n",
       "      <th>0</th>\n",
       "      <td>Black Plain Oversized T-shirt for MenOversized...</td>\n",
       "      <td>Oversized T-Shirts</td>\n",
       "      <td>₹499  ₹699 (29% off)</td>\n",
       "    </tr>\n",
       "    <tr>\n",
       "      <th>1</th>\n",
       "      <td>Relax Printed T-shirt for MenPrinted T-Shirts ...</td>\n",
       "      <td>Printed T-Shirts</td>\n",
       "      <td>₹329  ₹549 (40% off)</td>\n",
       "    </tr>\n",
       "    <tr>\n",
       "      <th>2</th>\n",
       "      <td>Out of Office Half Sleeve T-shirt for MenPrint...</td>\n",
       "      <td>Printed T-Shirts</td>\n",
       "      <td>₹349  ₹549 (36% off)</td>\n",
       "    </tr>\n",
       "    <tr>\n",
       "      <th>3</th>\n",
       "      <td>Lilac Plain T-ShirtPlain T-shirt - Regular Fit...</td>\n",
       "      <td>Plain T-shirt - Regular Fit</td>\n",
       "      <td>₹349  ₹499 (30% off)</td>\n",
       "    </tr>\n",
       "    <tr>\n",
       "      <th>4</th>\n",
       "      <td>Seafoam Green Plain T-ShirtPlain T-shirt - Reg...</td>\n",
       "      <td>Plain T-shirt - Regular Fit</td>\n",
       "      <td>₹349  ₹499 (30% off)</td>\n",
       "    </tr>\n",
       "    <tr>\n",
       "      <th>5</th>\n",
       "      <td>Black-Yellow Color Block Oversized T-shirt for...</td>\n",
       "      <td>Oversized T-Shirts</td>\n",
       "      <td>₹549  ₹1199 (54% off)</td>\n",
       "    </tr>\n",
       "    <tr>\n",
       "      <th>6</th>\n",
       "      <td>Superior Black Color Block Oversized T-shirt f...</td>\n",
       "      <td>Oversized T-Shirts</td>\n",
       "      <td>₹549  ₹1199 (54% off)</td>\n",
       "    </tr>\n",
       "    <tr>\n",
       "      <th>7</th>\n",
       "      <td>Swag Printed Oversized T-shirt for MenOversize...</td>\n",
       "      <td>Oversized T-Shirts</td>\n",
       "      <td>₹549  ₹1199 (54% off)</td>\n",
       "    </tr>\n",
       "    <tr>\n",
       "      <th>8</th>\n",
       "      <td>Extra Terrestrial Printed Oversized T-shirt fo...</td>\n",
       "      <td>Oversized T-Shirts</td>\n",
       "      <td>₹549  ₹1199 (54% off)</td>\n",
       "    </tr>\n",
       "    <tr>\n",
       "      <th>9</th>\n",
       "      <td>Light Grey Plain Oversized T-shirt for MenOver...</td>\n",
       "      <td>Oversized T-Shirts</td>\n",
       "      <td>₹499  ₹699 (29% off)</td>\n",
       "    </tr>\n",
       "    <tr>\n",
       "      <th>10</th>\n",
       "      <td>Smoke Grey Raglan Men Active T-shirtActivewear...</td>\n",
       "      <td>Activewear</td>\n",
       "      <td>₹399  ₹899 (56% off)</td>\n",
       "    </tr>\n",
       "    <tr>\n",
       "      <th>11</th>\n",
       "      <td>Music Panda Mens T-shirtPrinted T-Shirts ₹329 ...</td>\n",
       "      <td>Printed T-Shirts</td>\n",
       "      <td>₹329  ₹549 (40% off)</td>\n",
       "    </tr>\n",
       "  </tbody>\n",
       "</table>\n",
       "</div>"
      ],
      "text/plain": [
       "                                         Product_name  \\\n",
       "0   Black Plain Oversized T-shirt for MenOversized...   \n",
       "1   Relax Printed T-shirt for MenPrinted T-Shirts ...   \n",
       "2   Out of Office Half Sleeve T-shirt for MenPrint...   \n",
       "3   Lilac Plain T-ShirtPlain T-shirt - Regular Fit...   \n",
       "4   Seafoam Green Plain T-ShirtPlain T-shirt - Reg...   \n",
       "5   Black-Yellow Color Block Oversized T-shirt for...   \n",
       "6   Superior Black Color Block Oversized T-shirt f...   \n",
       "7   Swag Printed Oversized T-shirt for MenOversize...   \n",
       "8   Extra Terrestrial Printed Oversized T-shirt fo...   \n",
       "9   Light Grey Plain Oversized T-shirt for MenOver...   \n",
       "10  Smoke Grey Raglan Men Active T-shirtActivewear...   \n",
       "11  Music Panda Mens T-shirtPrinted T-Shirts ₹329 ...   \n",
       "\n",
       "               product_catogory                  price  \n",
       "0            Oversized T-Shirts   ₹499  ₹699 (29% off)  \n",
       "1              Printed T-Shirts   ₹329  ₹549 (40% off)  \n",
       "2              Printed T-Shirts   ₹349  ₹549 (36% off)  \n",
       "3   Plain T-shirt - Regular Fit   ₹349  ₹499 (30% off)  \n",
       "4   Plain T-shirt - Regular Fit   ₹349  ₹499 (30% off)  \n",
       "5            Oversized T-Shirts  ₹549  ₹1199 (54% off)  \n",
       "6            Oversized T-Shirts  ₹549  ₹1199 (54% off)  \n",
       "7            Oversized T-Shirts  ₹549  ₹1199 (54% off)  \n",
       "8            Oversized T-Shirts  ₹549  ₹1199 (54% off)  \n",
       "9            Oversized T-Shirts   ₹499  ₹699 (29% off)  \n",
       "10                   Activewear   ₹399  ₹899 (56% off)  \n",
       "11             Printed T-Shirts   ₹329  ₹549 (40% off)  "
      ]
     },
     "execution_count": 7,
     "metadata": {},
     "output_type": "execute_result"
    }
   ],
   "source": [
    "import pandas as pd   # create data frame using extracted data\n",
    "df1=pd.DataFrame({\"Product_name\":productnames,\"product_catogory\":catogory,\"price\":price})\n",
    "df1"
   ]
  },
  {
   "cell_type": "code",
   "execution_count": 12,
   "id": "fd31adec-0d5e-449c-9f9c-b130b4114a74",
   "metadata": {},
   "outputs": [],
   "source": [
    "df1.to_excel(\"Shirt_details.xlsx\",index=False)    # convert dataframe to excel for data cleaning"
   ]
  },
  {
   "cell_type": "code",
   "execution_count": 14,
   "id": "a9d5421f-9e3e-4ebc-a8c9-5471035f6bf7",
   "metadata": {},
   "outputs": [
    {
     "data": {
      "text/html": [
       "<div>\n",
       "<style scoped>\n",
       "    .dataframe tbody tr th:only-of-type {\n",
       "        vertical-align: middle;\n",
       "    }\n",
       "\n",
       "    .dataframe tbody tr th {\n",
       "        vertical-align: top;\n",
       "    }\n",
       "\n",
       "    .dataframe thead th {\n",
       "        text-align: right;\n",
       "    }\n",
       "</style>\n",
       "<table border=\"1\" class=\"dataframe\">\n",
       "  <thead>\n",
       "    <tr style=\"text-align: right;\">\n",
       "      <th></th>\n",
       "      <th>Product_name</th>\n",
       "      <th>product_catogory</th>\n",
       "      <th>Buy_price</th>\n",
       "      <th>Actual_price</th>\n",
       "      <th>Discount</th>\n",
       "    </tr>\n",
       "  </thead>\n",
       "  <tbody>\n",
       "    <tr>\n",
       "      <th>0</th>\n",
       "      <td>Black Plain Oversized T-shirt for MenOversized...</td>\n",
       "      <td>Oversized T-Shirts</td>\n",
       "      <td>₹499</td>\n",
       "      <td>₹699</td>\n",
       "      <td>0.29</td>\n",
       "    </tr>\n",
       "    <tr>\n",
       "      <th>1</th>\n",
       "      <td>Relax Printed T-shirt for MenPrinted T-Shirts ...</td>\n",
       "      <td>Printed T-Shirts</td>\n",
       "      <td>₹329</td>\n",
       "      <td>₹549</td>\n",
       "      <td>0.40</td>\n",
       "    </tr>\n",
       "    <tr>\n",
       "      <th>2</th>\n",
       "      <td>Out of Office Half Sleeve T-shirt for MenPrint...</td>\n",
       "      <td>Printed T-Shirts</td>\n",
       "      <td>₹349</td>\n",
       "      <td>₹549</td>\n",
       "      <td>0.36</td>\n",
       "    </tr>\n",
       "    <tr>\n",
       "      <th>3</th>\n",
       "      <td>Lilac Plain T-ShirtPlain T-shirt - Regular Fit...</td>\n",
       "      <td>Plain T-shirt - Regular Fit</td>\n",
       "      <td>₹349</td>\n",
       "      <td>₹499</td>\n",
       "      <td>0.30</td>\n",
       "    </tr>\n",
       "    <tr>\n",
       "      <th>4</th>\n",
       "      <td>Seafoam Green Plain T-ShirtPlain T-shirt - Reg...</td>\n",
       "      <td>Plain T-shirt - Regular Fit</td>\n",
       "      <td>₹349</td>\n",
       "      <td>₹499</td>\n",
       "      <td>0.30</td>\n",
       "    </tr>\n",
       "    <tr>\n",
       "      <th>5</th>\n",
       "      <td>Black-Yellow Color Block Oversized T-shirt for...</td>\n",
       "      <td>Oversized T-Shirts</td>\n",
       "      <td>₹549</td>\n",
       "      <td>₹1199</td>\n",
       "      <td>0.54</td>\n",
       "    </tr>\n",
       "    <tr>\n",
       "      <th>6</th>\n",
       "      <td>Superior Black Color Block Oversized T-shirt f...</td>\n",
       "      <td>Oversized T-Shirts</td>\n",
       "      <td>₹549</td>\n",
       "      <td>₹1199</td>\n",
       "      <td>0.54</td>\n",
       "    </tr>\n",
       "    <tr>\n",
       "      <th>7</th>\n",
       "      <td>Swag Printed Oversized T-shirt for MenOversize...</td>\n",
       "      <td>Oversized T-Shirts</td>\n",
       "      <td>₹549</td>\n",
       "      <td>₹1199</td>\n",
       "      <td>0.54</td>\n",
       "    </tr>\n",
       "    <tr>\n",
       "      <th>8</th>\n",
       "      <td>Extra Terrestrial Printed Oversized T-shirt fo...</td>\n",
       "      <td>Oversized T-Shirts</td>\n",
       "      <td>₹549</td>\n",
       "      <td>₹1199</td>\n",
       "      <td>0.54</td>\n",
       "    </tr>\n",
       "    <tr>\n",
       "      <th>9</th>\n",
       "      <td>Light Grey Plain Oversized T-shirt for MenOver...</td>\n",
       "      <td>Oversized T-Shirts</td>\n",
       "      <td>₹499</td>\n",
       "      <td>₹699</td>\n",
       "      <td>0.29</td>\n",
       "    </tr>\n",
       "    <tr>\n",
       "      <th>10</th>\n",
       "      <td>Smoke Grey Raglan Men Active T-shirtActivewear...</td>\n",
       "      <td>Activewear</td>\n",
       "      <td>₹399</td>\n",
       "      <td>₹899</td>\n",
       "      <td>0.56</td>\n",
       "    </tr>\n",
       "    <tr>\n",
       "      <th>11</th>\n",
       "      <td>Music Panda Mens T-shirtPrinted T-Shirts ₹329 ...</td>\n",
       "      <td>Printed T-Shirts</td>\n",
       "      <td>₹329</td>\n",
       "      <td>₹549</td>\n",
       "      <td>0.40</td>\n",
       "    </tr>\n",
       "  </tbody>\n",
       "</table>\n",
       "</div>"
      ],
      "text/plain": [
       "                                         Product_name  \\\n",
       "0   Black Plain Oversized T-shirt for MenOversized...   \n",
       "1   Relax Printed T-shirt for MenPrinted T-Shirts ...   \n",
       "2   Out of Office Half Sleeve T-shirt for MenPrint...   \n",
       "3   Lilac Plain T-ShirtPlain T-shirt - Regular Fit...   \n",
       "4   Seafoam Green Plain T-ShirtPlain T-shirt - Reg...   \n",
       "5   Black-Yellow Color Block Oversized T-shirt for...   \n",
       "6   Superior Black Color Block Oversized T-shirt f...   \n",
       "7   Swag Printed Oversized T-shirt for MenOversize...   \n",
       "8   Extra Terrestrial Printed Oversized T-shirt fo...   \n",
       "9   Light Grey Plain Oversized T-shirt for MenOver...   \n",
       "10  Smoke Grey Raglan Men Active T-shirtActivewear...   \n",
       "11  Music Panda Mens T-shirtPrinted T-Shirts ₹329 ...   \n",
       "\n",
       "               product_catogory Buy_price Actual_price  Discount  \n",
       "0            Oversized T-Shirts      ₹499        ₹699       0.29  \n",
       "1              Printed T-Shirts      ₹329        ₹549       0.40  \n",
       "2              Printed T-Shirts      ₹349        ₹549       0.36  \n",
       "3   Plain T-shirt - Regular Fit      ₹349        ₹499       0.30  \n",
       "4   Plain T-shirt - Regular Fit      ₹349        ₹499       0.30  \n",
       "5            Oversized T-Shirts      ₹549        ₹1199      0.54  \n",
       "6            Oversized T-Shirts      ₹549        ₹1199      0.54  \n",
       "7            Oversized T-Shirts      ₹549        ₹1199      0.54  \n",
       "8            Oversized T-Shirts      ₹549        ₹1199      0.54  \n",
       "9            Oversized T-Shirts      ₹499        ₹699       0.29  \n",
       "10                   Activewear      ₹399        ₹899       0.56  \n",
       "11             Printed T-Shirts      ₹329        ₹549       0.40  "
      ]
     },
     "execution_count": 14,
     "metadata": {},
     "output_type": "execute_result"
    }
   ],
   "source": [
    "# clean data \n",
    "df2=pd.read_excel(\"Shirt_details.xlsx\")\n",
    "df2"
   ]
  }
 ],
 "metadata": {
  "kernelspec": {
   "display_name": "Python 3 (ipykernel)",
   "language": "python",
   "name": "python3"
  },
  "language_info": {
   "codemirror_mode": {
    "name": "ipython",
    "version": 3
   },
   "file_extension": ".py",
   "mimetype": "text/x-python",
   "name": "python",
   "nbconvert_exporter": "python",
   "pygments_lexer": "ipython3",
   "version": "3.11.7"
  }
 },
 "nbformat": 4,
 "nbformat_minor": 5
}
